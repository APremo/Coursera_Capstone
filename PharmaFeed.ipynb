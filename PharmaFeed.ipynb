{
 "cells": [
  {
   "cell_type": "markdown",
   "metadata": {},
   "source": [
    "# PharmaFeed"
   ]
  },
  {
   "cell_type": "markdown",
   "metadata": {},
   "source": [
    "### The Battle of Neighborhoods Project"
   ]
  },
  {
   "cell_type": "markdown",
   "metadata": {},
   "source": [
    "#### Business Problem"
   ]
  },
  {
   "cell_type": "markdown",
   "metadata": {},
   "source": [
    "In recent days the need for pharmaceutical drugs in Italy has drastically increased due to the Covid-19 pandemic. Thus, the purpose of this study is to map find the closest drug maker, depot or wholesaler to satisfy pharmacies' needs. \n",
    "\n",
    "As a consequence, this Notebook is thought for those pharmacies in the Milanese area that needs to find the faster way to get a drug.\n"
   ]
  },
  {
   "cell_type": "markdown",
   "metadata": {},
   "source": [
    "#### Data Section"
   ]
  },
  {
   "cell_type": "markdown",
   "metadata": {},
   "source": [
    "In this study we will use the data available for the city of Milan, which is the biggest city in Lombardy (where the majority of the cases appeared) and thus it will probably need this study more than other territories.\n",
    "\n",
    "The dataset containing data on drug makers, depots and wholesalers is freely available at the municipality's website (https://dati.comune.milano.it/dataset/ds684-sanita-distributori-di-farmaci) in both GeoJSON and CSV format."
   ]
  },
  {
   "cell_type": "markdown",
   "metadata": {},
   "source": [
    "Here are some useful terminology tips to better understand our dataset:\n",
    "\n",
    "1. **CAP** is the postal code of a specific region, city or part of a city. Since Milan is the second-biggest city in Italy (after Rome), there are multiple postal codes in the city, dividing it into neighborhoods.\n",
    "2. **NIL** is the name of the neighborhood in which the drug dealer is set. However, they are somehow smaller than the neighborhoods defined by the cap, so that multiple NILs can fall into the same CAP zone.\n"
   ]
  },
  {
   "cell_type": "code",
   "execution_count": 1,
   "metadata": {},
   "outputs": [],
   "source": [
    "import numpy as np\n",
    "import pandas as pd\n",
    "pd.set_option('display.max_columns', None)\n",
    "pd.set_option('display.max_rows', None)\n",
    "\n",
    "import requests\n",
    "from bs4 import BeautifulSoup\n",
    "from tabulate import tabulate\n",
    "\n",
    "import json # library to handle JSON files\n",
    "from geopy.geocoders import Nominatim # convert an address into latitude and longitude values\n",
    "\n",
    "import requests # library to handle requests\n",
    "from pandas.io.json import json_normalize # tranform JSON file into a pandas dataframe\n",
    "\n",
    "# Matplotlib and associated plotting modules\n",
    "import matplotlib.cm as cm\n",
    "import matplotlib.colors as colors\n",
    "\n",
    "# import k-means from clustering stage\n",
    "from sklearn.cluster import KMeans\n",
    "import warnings\n",
    "import folium # map rendering library\n",
    "warnings.filterwarnings('ignore') #ignore red warnings, can be set on 'once' if want display only once"
   ]
  },
  {
   "cell_type": "code",
   "execution_count": 2,
   "metadata": {},
   "outputs": [],
   "source": [
    "#code to get Foursquare credentials from a txt file\n",
    "with open('Foursquare_Credentials.txt','r') as cred:\n",
    "    credentials=cred.read()\n",
    "    credentials=credentials.split(',')\n",
    "\n",
    "client_id=credentials[1]\n",
    "client_secret=credentials[3]"
   ]
  },
  {
   "cell_type": "markdown",
   "metadata": {},
   "source": [
    "The dataset below shows the location of **pharma distributors** in the city of **Milano, IT**"
   ]
  },
  {
   "cell_type": "markdown",
   "metadata": {},
   "source": [
    "Please note that the file is given with a semicolon as separator. So, we have to specify this delimiter in our *read_csv()* command"
   ]
  },
  {
   "cell_type": "code",
   "execution_count": 3,
   "metadata": {},
   "outputs": [
    {
     "data": {
      "text/html": [
       "<div>\n",
       "<style scoped>\n",
       "    .dataframe tbody tr th:only-of-type {\n",
       "        vertical-align: middle;\n",
       "    }\n",
       "\n",
       "    .dataframe tbody tr th {\n",
       "        vertical-align: top;\n",
       "    }\n",
       "\n",
       "    .dataframe thead th {\n",
       "        text-align: right;\n",
       "    }\n",
       "</style>\n",
       "<table border=\"1\" class=\"dataframe\">\n",
       "  <thead>\n",
       "    <tr style=\"text-align: right;\">\n",
       "      <th></th>\n",
       "      <th>CODICEIDENTIFICATIVOSITO</th>\n",
       "      <th>DENOMINAZIONESITOLOGISTICO</th>\n",
       "      <th>INDIRIZZO</th>\n",
       "      <th>PARTITAIVA</th>\n",
       "      <th>CAP</th>\n",
       "      <th>CODICECOMUNEISTAT</th>\n",
       "      <th>DESCRIZIONECOMUNE</th>\n",
       "      <th>CODICEPROVINCIAISTAT</th>\n",
       "      <th>SIGLAPROVINCIA</th>\n",
       "      <th>DESCRIZIONEPROVINCIA</th>\n",
       "      <th>CODICEREGIONE</th>\n",
       "      <th>DESCRIZIONEREGIONE</th>\n",
       "      <th>DATAINIZIOVALIDITA</th>\n",
       "      <th>TIPOLOGIADITRIBUTORE</th>\n",
       "      <th>DESCRIZIONEDISTRIBUTORE</th>\n",
       "      <th>LOCALIZE</th>\n",
       "      <th>NUMEROCOMPLETO</th>\n",
       "      <th>CODICE_VIA</th>\n",
       "      <th>MUNICIPIO</th>\n",
       "      <th>ID_NIL</th>\n",
       "      <th>NIL</th>\n",
       "      <th>LONG_WGS84</th>\n",
       "      <th>LAT_WGS84</th>\n",
       "      <th>Location</th>\n",
       "    </tr>\n",
       "  </thead>\n",
       "  <tbody>\n",
       "    <tr>\n",
       "      <td>0</td>\n",
       "      <td>18</td>\n",
       "      <td>Stabilimento di Milano</td>\n",
       "      <td>via matteo civitali 1</td>\n",
       "      <td>748210150</td>\n",
       "      <td>20148</td>\n",
       "      <td>15146</td>\n",
       "      <td>Milano</td>\n",
       "      <td>15</td>\n",
       "      <td>MI</td>\n",
       "      <td>Milano</td>\n",
       "      <td>30</td>\n",
       "      <td>Lombardia</td>\n",
       "      <td>2005-05-01</td>\n",
       "      <td>P</td>\n",
       "      <td>Produttore</td>\n",
       "      <td>1</td>\n",
       "      <td>1</td>\n",
       "      <td>6569.0</td>\n",
       "      <td>7.0</td>\n",
       "      <td>57.0</td>\n",
       "      <td>SELINUNTE</td>\n",
       "      <td>9.136590</td>\n",
       "      <td>45.468945</td>\n",
       "      <td>45.4689449631, 9.13658985457</td>\n",
       "    </tr>\n",
       "    <tr>\n",
       "      <td>1</td>\n",
       "      <td>27</td>\n",
       "      <td>Lofarma S.p.A.</td>\n",
       "      <td>viale cassala, 40</td>\n",
       "      <td>713510154</td>\n",
       "      <td>20143</td>\n",
       "      <td>15146</td>\n",
       "      <td>Milano</td>\n",
       "      <td>15</td>\n",
       "      <td>MI</td>\n",
       "      <td>Milano</td>\n",
       "      <td>30</td>\n",
       "      <td>Lombardia</td>\n",
       "      <td>2005-05-01</td>\n",
       "      <td>P</td>\n",
       "      <td>Produttore</td>\n",
       "      <td>1</td>\n",
       "      <td>40</td>\n",
       "      <td>5275.0</td>\n",
       "      <td>6.0</td>\n",
       "      <td>44.0</td>\n",
       "      <td>NAVIGLI</td>\n",
       "      <td>9.165970</td>\n",
       "      <td>45.444011</td>\n",
       "      <td>45.4440112757, 9.16597016441</td>\n",
       "    </tr>\n",
       "    <tr>\n",
       "      <td>2</td>\n",
       "      <td>28</td>\n",
       "      <td>Mipharm S.p.A.</td>\n",
       "      <td>via b. quaranta, 12</td>\n",
       "      <td>12304990158</td>\n",
       "      <td>20141</td>\n",
       "      <td>15146</td>\n",
       "      <td>Milano</td>\n",
       "      <td>15</td>\n",
       "      <td>MI</td>\n",
       "      <td>Milano</td>\n",
       "      <td>30</td>\n",
       "      <td>Lombardia</td>\n",
       "      <td>2005-05-01</td>\n",
       "      <td>P</td>\n",
       "      <td>Produttore</td>\n",
       "      <td>1</td>\n",
       "      <td>NaN</td>\n",
       "      <td>NaN</td>\n",
       "      <td>5.0</td>\n",
       "      <td>38.0</td>\n",
       "      <td>RIPAMONTI</td>\n",
       "      <td>9.204009</td>\n",
       "      <td>45.436331</td>\n",
       "      <td>45.4363314, 9.2040092</td>\n",
       "    </tr>\n",
       "    <tr>\n",
       "      <td>3</td>\n",
       "      <td>30</td>\n",
       "      <td>SCHWARZ PHARMA S.p.A.</td>\n",
       "      <td>via gadames, snc</td>\n",
       "      <td>7254500155</td>\n",
       "      <td>20151</td>\n",
       "      <td>15146</td>\n",
       "      <td>Milano</td>\n",
       "      <td>15</td>\n",
       "      <td>MI</td>\n",
       "      <td>Milano</td>\n",
       "      <td>30</td>\n",
       "      <td>Lombardia</td>\n",
       "      <td>2005-05-01</td>\n",
       "      <td>P</td>\n",
       "      <td>Produttore</td>\n",
       "      <td>1</td>\n",
       "      <td>NaN</td>\n",
       "      <td>NaN</td>\n",
       "      <td>NaN</td>\n",
       "      <td>NaN</td>\n",
       "      <td>NaN</td>\n",
       "      <td>NaN</td>\n",
       "      <td>NaN</td>\n",
       "      <td>NaN</td>\n",
       "    </tr>\n",
       "    <tr>\n",
       "      <td>4</td>\n",
       "      <td>59</td>\n",
       "      <td>LA COMMERCIALE FARMACEUTICA srl</td>\n",
       "      <td>via desenzano 6/a</td>\n",
       "      <td>55560775</td>\n",
       "      <td>20146</td>\n",
       "      <td>15146</td>\n",
       "      <td>Milano</td>\n",
       "      <td>15</td>\n",
       "      <td>MI</td>\n",
       "      <td>Milano</td>\n",
       "      <td>30</td>\n",
       "      <td>Lombardia</td>\n",
       "      <td>2005-05-01</td>\n",
       "      <td>G</td>\n",
       "      <td>Grossista</td>\n",
       "      <td>1</td>\n",
       "      <td>6A</td>\n",
       "      <td>6610.0</td>\n",
       "      <td>7.0</td>\n",
       "      <td>52.0</td>\n",
       "      <td>BANDE NERE</td>\n",
       "      <td>9.140103</td>\n",
       "      <td>45.462419</td>\n",
       "      <td>45.4624185522, 9.14010264607</td>\n",
       "    </tr>\n",
       "  </tbody>\n",
       "</table>\n",
       "</div>"
      ],
      "text/plain": [
       "   CODICEIDENTIFICATIVOSITO       DENOMINAZIONESITOLOGISTICO  \\\n",
       "0                        18           Stabilimento di Milano   \n",
       "1                        27                   Lofarma S.p.A.   \n",
       "2                        28                   Mipharm S.p.A.   \n",
       "3                        30            SCHWARZ PHARMA S.p.A.   \n",
       "4                        59  LA COMMERCIALE FARMACEUTICA srl   \n",
       "\n",
       "               INDIRIZZO   PARTITAIVA    CAP  CODICECOMUNEISTAT  \\\n",
       "0  via matteo civitali 1    748210150  20148              15146   \n",
       "1      viale cassala, 40    713510154  20143              15146   \n",
       "2    via b. quaranta, 12  12304990158  20141              15146   \n",
       "3       via gadames, snc   7254500155  20151              15146   \n",
       "4      via desenzano 6/a     55560775  20146              15146   \n",
       "\n",
       "  DESCRIZIONECOMUNE  CODICEPROVINCIAISTAT SIGLAPROVINCIA DESCRIZIONEPROVINCIA  \\\n",
       "0            Milano                    15             MI               Milano   \n",
       "1            Milano                    15             MI               Milano   \n",
       "2            Milano                    15             MI               Milano   \n",
       "3            Milano                    15             MI               Milano   \n",
       "4            Milano                    15             MI               Milano   \n",
       "\n",
       "   CODICEREGIONE DESCRIZIONEREGIONE DATAINIZIOVALIDITA TIPOLOGIADITRIBUTORE  \\\n",
       "0             30          Lombardia         2005-05-01                    P   \n",
       "1             30          Lombardia         2005-05-01                    P   \n",
       "2             30          Lombardia         2005-05-01                    P   \n",
       "3             30          Lombardia         2005-05-01                    P   \n",
       "4             30          Lombardia         2005-05-01                    G   \n",
       "\n",
       "  DESCRIZIONEDISTRIBUTORE  LOCALIZE NUMEROCOMPLETO  CODICE_VIA  MUNICIPIO  \\\n",
       "0              Produttore         1              1      6569.0        7.0   \n",
       "1              Produttore         1             40      5275.0        6.0   \n",
       "2              Produttore         1            NaN         NaN        5.0   \n",
       "3              Produttore         1            NaN         NaN        NaN   \n",
       "4               Grossista         1             6A      6610.0        7.0   \n",
       "\n",
       "   ID_NIL         NIL  LONG_WGS84  LAT_WGS84                      Location  \n",
       "0    57.0   SELINUNTE    9.136590  45.468945  45.4689449631, 9.13658985457  \n",
       "1    44.0     NAVIGLI    9.165970  45.444011  45.4440112757, 9.16597016441  \n",
       "2    38.0   RIPAMONTI    9.204009  45.436331         45.4363314, 9.2040092  \n",
       "3     NaN         NaN         NaN        NaN                           NaN  \n",
       "4    52.0  BANDE NERE    9.140103  45.462419  45.4624185522, 9.14010264607  "
      ]
     },
     "execution_count": 3,
     "metadata": {},
     "output_type": "execute_result"
    }
   ],
   "source": [
    "pharma=pd.read_csv('distributori-di-farmaci_v3_geo.csv',sep=';')\n",
    "pharma.drop(['DATAFINEVALIDITA'],axis=1,inplace=True)\n",
    "pharma.head()"
   ]
  },
  {
   "cell_type": "code",
   "execution_count": 4,
   "metadata": {},
   "outputs": [],
   "source": [
    "pharma[['Latitude','Longitude']]= pharma['Location'].str.split(',',expand=True)\n",
    "\n",
    "#Here we are going to change in English the labels we will use later on\n",
    "pharma.rename(columns={'DENOMINAZIONESITOLOGISTICO':'Name','INDIRIZZO':'Address','DESCRIZIONEDISTRIBUTORE':'Description'},inplace=True)"
   ]
  },
  {
   "cell_type": "code",
   "execution_count": 5,
   "metadata": {},
   "outputs": [
    {
     "data": {
      "text/html": [
       "<div>\n",
       "<style scoped>\n",
       "    .dataframe tbody tr th:only-of-type {\n",
       "        vertical-align: middle;\n",
       "    }\n",
       "\n",
       "    .dataframe tbody tr th {\n",
       "        vertical-align: top;\n",
       "    }\n",
       "\n",
       "    .dataframe thead th {\n",
       "        text-align: right;\n",
       "    }\n",
       "</style>\n",
       "<table border=\"1\" class=\"dataframe\">\n",
       "  <thead>\n",
       "    <tr style=\"text-align: right;\">\n",
       "      <th></th>\n",
       "      <th>CAP</th>\n",
       "      <th>Name</th>\n",
       "      <th>Address</th>\n",
       "      <th>Description</th>\n",
       "      <th>NIL</th>\n",
       "      <th>Latitude</th>\n",
       "      <th>Longitude</th>\n",
       "    </tr>\n",
       "  </thead>\n",
       "  <tbody>\n",
       "    <tr>\n",
       "      <td>0</td>\n",
       "      <td>20148</td>\n",
       "      <td>Stabilimento di Milano</td>\n",
       "      <td>via matteo civitali 1</td>\n",
       "      <td>Maker</td>\n",
       "      <td>SELINUNTE</td>\n",
       "      <td>45.4689449631</td>\n",
       "      <td>9.13658985457</td>\n",
       "    </tr>\n",
       "    <tr>\n",
       "      <td>1</td>\n",
       "      <td>20143</td>\n",
       "      <td>Lofarma S.p.A.</td>\n",
       "      <td>viale cassala, 40</td>\n",
       "      <td>Maker</td>\n",
       "      <td>NAVIGLI</td>\n",
       "      <td>45.4440112757</td>\n",
       "      <td>9.16597016441</td>\n",
       "    </tr>\n",
       "    <tr>\n",
       "      <td>2</td>\n",
       "      <td>20141</td>\n",
       "      <td>Mipharm S.p.A.</td>\n",
       "      <td>via b. quaranta, 12</td>\n",
       "      <td>Maker</td>\n",
       "      <td>RIPAMONTI</td>\n",
       "      <td>45.4363314</td>\n",
       "      <td>9.2040092</td>\n",
       "    </tr>\n",
       "    <tr>\n",
       "      <td>3</td>\n",
       "      <td>20151</td>\n",
       "      <td>SCHWARZ PHARMA S.p.A.</td>\n",
       "      <td>via gadames, snc</td>\n",
       "      <td>Maker</td>\n",
       "      <td>NaN</td>\n",
       "      <td>NaN</td>\n",
       "      <td>NaN</td>\n",
       "    </tr>\n",
       "    <tr>\n",
       "      <td>4</td>\n",
       "      <td>20146</td>\n",
       "      <td>LA COMMERCIALE FARMACEUTICA srl</td>\n",
       "      <td>via desenzano 6/a</td>\n",
       "      <td>Wholesaler</td>\n",
       "      <td>BANDE NERE</td>\n",
       "      <td>45.4624185522</td>\n",
       "      <td>9.14010264607</td>\n",
       "    </tr>\n",
       "  </tbody>\n",
       "</table>\n",
       "</div>"
      ],
      "text/plain": [
       "     CAP                             Name                Address Description  \\\n",
       "0  20148           Stabilimento di Milano  via matteo civitali 1       Maker   \n",
       "1  20143                   Lofarma S.p.A.      viale cassala, 40       Maker   \n",
       "2  20141                   Mipharm S.p.A.    via b. quaranta, 12       Maker   \n",
       "3  20151            SCHWARZ PHARMA S.p.A.       via gadames, snc       Maker   \n",
       "4  20146  LA COMMERCIALE FARMACEUTICA srl      via desenzano 6/a  Wholesaler   \n",
       "\n",
       "          NIL       Latitude       Longitude  \n",
       "0   SELINUNTE  45.4689449631   9.13658985457  \n",
       "1     NAVIGLI  45.4440112757   9.16597016441  \n",
       "2   RIPAMONTI     45.4363314       9.2040092  \n",
       "3         NaN            NaN             NaN  \n",
       "4  BANDE NERE  45.4624185522   9.14010264607  "
      ]
     },
     "execution_count": 5,
     "metadata": {},
     "output_type": "execute_result"
    }
   ],
   "source": [
    "df=pharma[['CAP','Name','Address','Description','NIL','Latitude','Longitude']]\n",
    "df['Description'].replace({'Produttore':'Maker','Grossista':'Wholesaler','Depositario':'Depot'}, inplace=True)\n",
    "df.head()"
   ]
  },
  {
   "cell_type": "markdown",
   "metadata": {},
   "source": [
    "We now assume we are Farmacia Giambellino, a small but historical pharmacy in the South-West part of Milan, sited in **Via Giambellino 64, 20146 Milano**"
   ]
  },
  {
   "cell_type": "code",
   "execution_count": 6,
   "metadata": {},
   "outputs": [
    {
     "name": "stdout",
     "output_type": "stream",
     "text": [
      "45.4495142 9.1446303\n"
     ]
    }
   ],
   "source": [
    "address = 'Via Giambellino 64, Milano, IT'\n",
    "\n",
    "geolocator = Nominatim(user_agent=\"foursquare_agent\")\n",
    "location = geolocator.geocode(address)\n",
    "latitude = location.latitude\n",
    "longitude = location.longitude\n",
    "print(latitude, longitude)"
   ]
  },
  {
   "cell_type": "code",
   "execution_count": 7,
   "metadata": {},
   "outputs": [
    {
     "data": {
      "text/plain": [
       "45.4689449631"
      ]
     },
     "execution_count": 7,
     "metadata": {},
     "output_type": "execute_result"
    }
   ],
   "source": [
    "float(df['Latitude'][0])"
   ]
  },
  {
   "cell_type": "code",
   "execution_count": 8,
   "metadata": {},
   "outputs": [],
   "source": [
    "#Formula to calculate the distance between two points on Earth, given their coordinates\n",
    "from math import radians, cos, sin, asin, sqrt\n",
    "def haversine(lon1, lat1, lon2, lat2):\n",
    "       \"\"\"\n",
    "       Calculate the great circle distance between two points \n",
    "       on the earth (specified in decimal degrees)\n",
    "       \"\"\"\n",
    "       # convert decimal degrees to radians \n",
    "       lon1, lat1, lon2, lat2 = map(radians, [lon1, lat1, lon2, lat2])\n",
    "       # haversine formula \n",
    "       dlon = lon2 - lon1 \n",
    "       dlat = lat2 - lat1 \n",
    "       a = sin(dlat/2)**2 + cos(lat1) * cos(lat2) * sin(dlon/2)**2\n",
    "       c = 2 * asin(sqrt(a)) \n",
    "       # Radius of earth in kilometers is 6371\n",
    "       km = 6371* c\n",
    "       return km"
   ]
  },
  {
   "cell_type": "markdown",
   "metadata": {},
   "source": [
    "Now we iterate the formula for each drug dealer in the __df__"
   ]
  },
  {
   "cell_type": "code",
   "execution_count": 9,
   "metadata": {},
   "outputs": [
    {
     "data": {
      "text/plain": [
       "'Wholesaler'"
      ]
     },
     "execution_count": 9,
     "metadata": {},
     "output_type": "execute_result"
    }
   ],
   "source": [
    "df['Description'][3]\n",
    "df['Description'][4]"
   ]
  },
  {
   "cell_type": "code",
   "execution_count": 10,
   "metadata": {},
   "outputs": [
    {
     "name": "stdout",
     "output_type": "stream",
     "text": [
      "Appending completed\n"
     ]
    }
   ],
   "source": [
    "lat2=latitude\n",
    "lon2=longitude\n",
    "types=[]\n",
    "names=[]\n",
    "results=[]\n",
    "for a in range(0,len(df['Latitude'])):\n",
    "    types.append(df['Description'][a])\n",
    "    names.append(df['Name'][a])\n",
    "    lat1=float(df['Latitude'][a])\n",
    "    lon1=float(df['Longitude'][a])\n",
    "    results.append(haversine(lon1,lat1,lon2,lat2))\n",
    "print('Appending completed')"
   ]
  },
  {
   "cell_type": "code",
   "execution_count": 11,
   "metadata": {},
   "outputs": [],
   "source": [
    "dict1={'Type':types,'Names':names,'Distance':results}\n",
    "distance_df=pd.DataFrame(dict1)"
   ]
  },
  {
   "cell_type": "markdown",
   "metadata": {},
   "source": [
    "Print the distance dataframe, to see what are the closest *n* dealers"
   ]
  },
  {
   "cell_type": "code",
   "execution_count": 12,
   "metadata": {},
   "outputs": [
    {
     "data": {
      "text/html": [
       "<div>\n",
       "<style scoped>\n",
       "    .dataframe tbody tr th:only-of-type {\n",
       "        vertical-align: middle;\n",
       "    }\n",
       "\n",
       "    .dataframe tbody tr th {\n",
       "        vertical-align: top;\n",
       "    }\n",
       "\n",
       "    .dataframe thead th {\n",
       "        text-align: right;\n",
       "    }\n",
       "</style>\n",
       "<table border=\"1\" class=\"dataframe\">\n",
       "  <thead>\n",
       "    <tr style=\"text-align: right;\">\n",
       "      <th></th>\n",
       "      <th>Type</th>\n",
       "      <th>Names</th>\n",
       "      <th>Distance</th>\n",
       "    </tr>\n",
       "  </thead>\n",
       "  <tbody>\n",
       "    <tr>\n",
       "      <td>21</td>\n",
       "      <td>Maker</td>\n",
       "      <td>MEDIOLANUM FARMACEUTICI SPA</td>\n",
       "      <td>0.825140</td>\n",
       "    </tr>\n",
       "    <tr>\n",
       "      <td>22</td>\n",
       "      <td>Maker</td>\n",
       "      <td>MEDIOLANUM FARMACEUTICI SPA</td>\n",
       "      <td>0.825140</td>\n",
       "    </tr>\n",
       "    <tr>\n",
       "      <td>68</td>\n",
       "      <td>Maker</td>\n",
       "      <td>NEOPHARMED GENTILI SRL</td>\n",
       "      <td>0.825140</td>\n",
       "    </tr>\n",
       "    <tr>\n",
       "      <td>42</td>\n",
       "      <td>Wholesaler</td>\n",
       "      <td>Robecchi srl</td>\n",
       "      <td>1.217115</td>\n",
       "    </tr>\n",
       "    <tr>\n",
       "      <td>4</td>\n",
       "      <td>Wholesaler</td>\n",
       "      <td>LA COMMERCIALE FARMACEUTICA srl</td>\n",
       "      <td>1.477717</td>\n",
       "    </tr>\n",
       "  </tbody>\n",
       "</table>\n",
       "</div>"
      ],
      "text/plain": [
       "          Type                            Names  Distance\n",
       "21       Maker      MEDIOLANUM FARMACEUTICI SPA  0.825140\n",
       "22       Maker      MEDIOLANUM FARMACEUTICI SPA  0.825140\n",
       "68       Maker           NEOPHARMED GENTILI SRL  0.825140\n",
       "42  Wholesaler                     Robecchi srl  1.217115\n",
       "4   Wholesaler  LA COMMERCIALE FARMACEUTICA srl  1.477717"
      ]
     },
     "execution_count": 12,
     "metadata": {},
     "output_type": "execute_result"
    }
   ],
   "source": [
    "distance_df.sort_values(by='Distance',ascending=True, inplace=True)\n",
    "distance_df.head()"
   ]
  },
  {
   "cell_type": "code",
   "execution_count": 13,
   "metadata": {},
   "outputs": [
    {
     "name": "stdout",
     "output_type": "stream",
     "text": [
      "The closest drug Maker to Farmacia Giambellino is MEDIOLANUM FARMACEUTICI SPA\n",
      "It is just 0.83km far from this pharmacy\n"
     ]
    }
   ],
   "source": [
    "min_dis=min(distance_df.Distance)\n",
    "closest=distance_df.loc[distance_df['Distance']==min_dis,['Names']]\n",
    "tipo=distance_df.loc[distance_df['Distance']==min_dis,['Type']]\n",
    "\n",
    "closest_list=list(closest.Names)\n",
    "type_list=list(tipo.Type)\n",
    "print('The closest drug {} to Farmacia Giambellino is {}'.format(type_list[0],closest_list[0]))\n",
    "print('It is just {}km far from this pharmacy'.format(round(min_dis,2)))"
   ]
  },
  {
   "cell_type": "markdown",
   "metadata": {},
   "source": [
    "**Creating a Map**"
   ]
  },
  {
   "cell_type": "code",
   "execution_count": 14,
   "metadata": {},
   "outputs": [
    {
     "data": {
      "text/html": [
       "<div style=\"width:100%;\"><div style=\"position:relative;width:100%;height:0;padding-bottom:60%;\"><span style=\"color:#565656\">Make this Notebook Trusted to load map: File -> Trust Notebook</span><iframe src=\"about:blank\" style=\"position:absolute;width:100%;height:100%;left:0;top:0;border:none !important;\" data-html=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 onload=\"this.contentDocument.open();this.contentDocument.write(atob(this.getAttribute('data-html')));this.contentDocument.close();\" allowfullscreen webkitallowfullscreen mozallowfullscreen></iframe></div></div>"
      ],
      "text/plain": [
       "<folium.folium.Map at 0x1a1e85b610>"
      ]
     },
     "execution_count": 14,
     "metadata": {},
     "output_type": "execute_result"
    }
   ],
   "source": [
    "df.dropna(inplace=True)\n",
    "venues_map = folium.Map(location=[latitude, longitude], zoom_start=13,width='100%', height='100%') # generate map centred around FarmaZullo\n",
    "\n",
    "\n",
    "# add Ecco as a red circle mark\n",
    "folium.features.CircleMarker(\n",
    "    [float(latitude), float(longitude)],\n",
    "    radius=10,\n",
    "    popup=folium.Popup('Farmacia Giambellino'),\n",
    "    fill=True,\n",
    "    color='red',\n",
    "    fill_color='red',fill_opacity=0.6).add_to(venues_map)\n",
    "\n",
    "\n",
    "# add popular spots to the map as blue circle markers\n",
    "for lat, lng, label in zip(df.Latitude, df.Longitude, df.Name):\n",
    "    folium.features.CircleMarker(\n",
    "        [float(lat), float(lng)],\n",
    "        radius=5,\n",
    "        popup=folium.Popup(label),\n",
    "        fill=True,\n",
    "        color='blue',\n",
    "        fill_color='blue',fill_opacity=0.6).add_to(venues_map)\n",
    "\n",
    "# display map\n",
    "venues_map\n"
   ]
  }
 ],
 "metadata": {
  "kernelspec": {
   "display_name": "Python 3",
   "language": "python",
   "name": "python3"
  },
  "language_info": {
   "codemirror_mode": {
    "name": "ipython",
    "version": 3
   },
   "file_extension": ".py",
   "mimetype": "text/x-python",
   "name": "python",
   "nbconvert_exporter": "python",
   "pygments_lexer": "ipython3",
   "version": "3.7.4"
  }
 },
 "nbformat": 4,
 "nbformat_minor": 2
}
